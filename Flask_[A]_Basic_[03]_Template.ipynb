{
  "nbformat": 4,
  "nbformat_minor": 0,
  "metadata": {
    "colab": {
      "provenance": [],
      "include_colab_link": true
    },
    "kernelspec": {
      "name": "python3",
      "display_name": "Python 3"
    },
    "language_info": {
      "name": "python"
    }
  },
  "cells": [
    {
      "cell_type": "markdown",
      "metadata": {
        "id": "view-in-github",
        "colab_type": "text"
      },
      "source": [
        "<a href=\"https://colab.research.google.com/github/rahayumaharani/Rahayygithub/blob/main/Flask_%5BA%5D_Basic_%5B03%5D_Template.ipynb\" target=\"_parent\"><img src=\"https://colab.research.google.com/assets/colab-badge.svg\" alt=\"Open In Colab\"/></a>"
      ]
    },
    {
      "cell_type": "markdown",
      "source": [
        "**AIM4 - Flask - [A] Basic - [03] Template**\n",
        "\n",
        "Orbit Future Academy - AI Mastery - KM Batch 4 <br>\n",
        "Tim Deployment <br>\n",
        "2023 <br>\n",
        "\n",
        "<img src=\"http://orbitfutureacademy.id/wp-content/uploads/2020/02/dark_logo.png\" alt=\"Logo Orbit\" width=\"100\" height=\"30\">\n"
      ],
      "metadata": {
        "id": "iord4tfWrKCw"
      }
    },
    {
      "cell_type": "code",
      "execution_count": null,
      "metadata": {
        "colab": {
          "base_uri": "https://localhost:8080/"
        },
        "id": "oKOPuoSNqpQ6",
        "outputId": "6efcfaae-7b74-47ce-fd28-e3866dca7a6e"
      },
      "outputs": [
        {
          "output_type": "stream",
          "name": "stdout",
          "text": [
            "Completed!\n"
          ]
        }
      ],
      "source": [
        "# Melakukan Instalasi Packages yang Dibutuhkan\n",
        "!pip install flask --quiet\n",
        "!pip install flask-ngrok --quiet\n",
        "print(\"Completed!\")"
      ]
    },
    {
      "cell_type": "code",
      "source": [
        "# Download \"ngrox\" \n",
        "!wget https://bin.equinox.io/c/4VmDzA7iaHb/ngrok-stable-linux-amd64.tgz\n",
        "!tar -xvf /content/ngrok-stable-linux-amd64.tgz "
      ],
      "metadata": {
        "colab": {
          "base_uri": "https://localhost:8080/"
        },
        "id": "Tgh7OgSOsPia",
        "outputId": "ed303957-2e02-49bc-de15-52d7f6df2526"
      },
      "execution_count": null,
      "outputs": [
        {
          "output_type": "stream",
          "name": "stdout",
          "text": [
            "--2023-04-23 07:16:20--  https://bin.equinox.io/c/4VmDzA7iaHb/ngrok-stable-linux-amd64.tgz\n",
            "Resolving bin.equinox.io (bin.equinox.io)... 54.161.241.46, 54.237.133.81, 52.202.168.65, ...\n",
            "Connecting to bin.equinox.io (bin.equinox.io)|54.161.241.46|:443... connected.\n",
            "HTTP request sent, awaiting response... 200 OK\n",
            "Length: 13856790 (13M) [application/octet-stream]\n",
            "Saving to: ‘ngrok-stable-linux-amd64.tgz’\n",
            "\n",
            "ngrok-stable-linux- 100%[===================>]  13.21M  55.3MB/s    in 0.2s    \n",
            "\n",
            "2023-04-23 07:16:20 (55.3 MB/s) - ‘ngrok-stable-linux-amd64.tgz’ saved [13856790/13856790]\n",
            "\n",
            "ngrok\n"
          ]
        }
      ]
    },
    {
      "cell_type": "code",
      "source": [
        "# Setting Token\n",
        "!./ngrok authtoken <Auth Token> # diganti dengan token Anda !"
      ],
      "metadata": {
        "colab": {
          "base_uri": "https://localhost:8080/"
        },
        "id": "dB467gFqseLS",
        "outputId": "87fb66bb-5687-400e-e499-515a15d58786"
      },
      "execution_count": null,
      "outputs": [
        {
          "output_type": "stream",
          "name": "stdout",
          "text": [
            "Authtoken saved to configuration file: /root/.ngrok2/ngrok.yml\n"
          ]
        }
      ]
    },
    {
      "cell_type": "code",
      "source": [
        "# Clone Repository dari Github\n",
        "!git clone https://github.com/pemula-newbie/flask-basic-template"
      ],
      "metadata": {
        "colab": {
          "base_uri": "https://localhost:8080/"
        },
        "id": "cWfXavqOsks6",
        "outputId": "8d911498-3670-4358-f6e8-633c4903b123"
      },
      "execution_count": null,
      "outputs": [
        {
          "output_type": "stream",
          "name": "stdout",
          "text": [
            "Cloning into 'flask-basic-template'...\n",
            "remote: Enumerating objects: 19, done.\u001b[K\n",
            "remote: Counting objects: 100% (19/19), done.\u001b[K\n",
            "remote: Compressing objects: 100% (17/17), done.\u001b[K\n",
            "remote: Total 19 (delta 0), reused 0 (delta 0), pack-reused 0\u001b[K\n",
            "Unpacking objects: 100% (19/19), 151.77 KiB | 3.61 MiB/s, done.\n"
          ]
        }
      ]
    },
    {
      "cell_type": "code",
      "source": [
        "cd /content/flask-basic-template/"
      ],
      "metadata": {
        "colab": {
          "base_uri": "https://localhost:8080/"
        },
        "id": "k4UxSne_-Dd8",
        "outputId": "1441b879-df2d-4cb9-e76e-8c9784393657"
      },
      "execution_count": null,
      "outputs": [
        {
          "output_type": "stream",
          "name": "stdout",
          "text": [
            "/content/flask-basic-template\n"
          ]
        }
      ]
    },
    {
      "cell_type": "code",
      "source": [
        "# Jalankan Aplikasi (Kode Python \"app.py\")\n",
        "!python3 app.py"
      ],
      "metadata": {
        "colab": {
          "base_uri": "https://localhost:8080/"
        },
        "id": "tjsHsYXjs0x2",
        "outputId": "954bb65b-c471-46e1-93c7-138577bf080a"
      },
      "execution_count": null,
      "outputs": [
        {
          "output_type": "stream",
          "name": "stdout",
          "text": [
            " * Serving Flask app 'app'\n",
            " * Debug mode: off\n",
            "\u001b[31m\u001b[1mWARNING: This is a development server. Do not use it in a production deployment. Use a production WSGI server instead.\u001b[0m\n",
            " * Running on http://127.0.0.1:5000\n",
            "\u001b[33mPress CTRL+C to quit\u001b[0m\n",
            " * Running on http://00bb-35-196-213-231.ngrok-free.app\n",
            " * Traffic stats available on http://127.0.0.1:4040\n",
            "127.0.0.1 - - [23/Apr/2023 07:17:05] \"GET / HTTP/1.1\" 200 -\n",
            "127.0.0.1 - - [23/Apr/2023 07:17:06] \"\u001b[32mGET /static//css/bootstrap.min.css HTTP/1.1\u001b[0m\" 308 -\n",
            "127.0.0.1 - - [23/Apr/2023 07:17:06] \"\u001b[32mGET /static//js/jquery_3.6.0.min.js HTTP/1.1\u001b[0m\" 308 -\n",
            "127.0.0.1 - - [23/Apr/2023 07:17:06] \"\u001b[32mGET /static//css/font-lato.css HTTP/1.1\u001b[0m\" 308 -\n",
            "127.0.0.1 - - [23/Apr/2023 07:17:06] \"GET /static/css/bootstrap.min.css HTTP/1.1\" 200 -\n",
            "127.0.0.1 - - [23/Apr/2023 07:17:06] \"GET /static/js/jquery_3.6.0.min.js HTTP/1.1\" 200 -\n",
            "127.0.0.1 - - [23/Apr/2023 07:17:06] \"GET /static/css/font-lato.css HTTP/1.1\" 200 -\n",
            "127.0.0.1 - - [23/Apr/2023 07:17:07] \"\u001b[32mGET /static//js/bootstrap_3.4.1.min.js HTTP/1.1\u001b[0m\" 308 -\n",
            "127.0.0.1 - - [23/Apr/2023 07:17:08] \"GET /static/js/bootstrap_3.4.1.min.js HTTP/1.1\" 200 -\n",
            "127.0.0.1 - - [23/Apr/2023 07:17:08] \"\u001b[32mGET /static//images/orbit_logo.jpg HTTP/1.1\u001b[0m\" 308 -\n",
            "127.0.0.1 - - [23/Apr/2023 07:17:08] \"GET /static/fonts/glyphicons-halflings-regular.woff2 HTTP/1.1\" 200 -\n",
            "127.0.0.1 - - [23/Apr/2023 07:17:09] \"GET /static/images/orbit_logo.jpg HTTP/1.1\" 200 -\n",
            "127.0.0.1 - - [23/Apr/2023 07:17:09] \"\u001b[33mGET /favicon.ico HTTP/1.1\u001b[0m\" 404 -\n"
          ]
        }
      ]
    }
  ]
}