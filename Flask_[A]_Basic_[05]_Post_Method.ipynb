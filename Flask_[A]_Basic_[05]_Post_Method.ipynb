{
  "nbformat": 4,
  "nbformat_minor": 0,
  "metadata": {
    "colab": {
      "provenance": [],
      "include_colab_link": true
    },
    "kernelspec": {
      "name": "python3",
      "display_name": "Python 3"
    },
    "language_info": {
      "name": "python"
    }
  },
  "cells": [
    {
      "cell_type": "markdown",
      "metadata": {
        "id": "view-in-github",
        "colab_type": "text"
      },
      "source": [
        "<a href=\"https://colab.research.google.com/github/rahayumaharani/Rahayygithub/blob/main/Flask_%5BA%5D_Basic_%5B05%5D_Post_Method.ipynb\" target=\"_parent\"><img src=\"https://colab.research.google.com/assets/colab-badge.svg\" alt=\"Open In Colab\"/></a>"
      ]
    },
    {
      "cell_type": "markdown",
      "source": [
        "**AIM4 - Flask - [A] Basic - [05] Post Method**\n",
        "\n",
        "Orbit Future Academy - AI Mastery - KM Batch 4 <br>\n",
        "Tim Deployment <br>\n",
        "2023 <br>\n",
        "\n",
        "<img src=\"http://orbitfutureacademy.id/wp-content/uploads/2020/02/dark_logo.png\" alt=\"Logo Orbit\" width=\"100\" height=\"30\">\n"
      ],
      "metadata": {
        "id": "iord4tfWrKCw"
      }
    },
    {
      "cell_type": "code",
      "execution_count": null,
      "metadata": {
        "colab": {
          "base_uri": "https://localhost:8080/"
        },
        "id": "oKOPuoSNqpQ6",
        "outputId": "31b84bc4-7d98-401a-cbd5-1cbd46db28b6"
      },
      "outputs": [
        {
          "output_type": "stream",
          "name": "stdout",
          "text": [
            "Completed!\n"
          ]
        }
      ],
      "source": [
        "# Melakukan Instalasi Packages yang Dibutuhkan\n",
        "!pip install flask --quiet\n",
        "!pip install flask-ngrok --quiet\n",
        "print(\"Completed!\")"
      ]
    },
    {
      "cell_type": "code",
      "source": [
        "# Download \"ngrox\" \n",
        "!wget https://bin.equinox.io/c/4VmDzA7iaHb/ngrok-stable-linux-amd64.tgz\n",
        "!tar -xvf /content/ngrok-stable-linux-amd64.tgz "
      ],
      "metadata": {
        "colab": {
          "base_uri": "https://localhost:8080/"
        },
        "id": "Tgh7OgSOsPia",
        "outputId": "b486ff13-b591-45c5-a363-0ecbf86786af"
      },
      "execution_count": null,
      "outputs": [
        {
          "output_type": "stream",
          "name": "stdout",
          "text": [
            "--2023-04-23 11:15:20--  https://bin.equinox.io/c/4VmDzA7iaHb/ngrok-stable-linux-amd64.tgz\n",
            "Resolving bin.equinox.io (bin.equinox.io)... 54.161.241.46, 52.202.168.65, 54.237.133.81, ...\n",
            "Connecting to bin.equinox.io (bin.equinox.io)|54.161.241.46|:443... connected.\n",
            "HTTP request sent, awaiting response... 200 OK\n",
            "Length: 13856790 (13M) [application/octet-stream]\n",
            "Saving to: ‘ngrok-stable-linux-amd64.tgz’\n",
            "\n",
            "ngrok-stable-linux- 100%[===================>]  13.21M  17.8MB/s    in 0.7s    \n",
            "\n",
            "2023-04-23 11:15:21 (17.8 MB/s) - ‘ngrok-stable-linux-amd64.tgz’ saved [13856790/13856790]\n",
            "\n",
            "ngrok\n"
          ]
        }
      ]
    },
    {
      "cell_type": "code",
      "source": [
        "# Setting Token\n",
        "!./ngrok authtoken <Auth Token> # diganti dengan token Anda !"
      ],
      "metadata": {
        "colab": {
          "base_uri": "https://localhost:8080/"
        },
        "id": "dB467gFqseLS",
        "outputId": "c7354e05-7851-4c59-e603-3c87c58637d4"
      },
      "execution_count": null,
      "outputs": [
        {
          "output_type": "stream",
          "name": "stdout",
          "text": [
            "Authtoken saved to configuration file: /root/.ngrok2/ngrok.yml\n"
          ]
        }
      ]
    },
    {
      "cell_type": "code",
      "source": [
        "# Clone Repository dari Github\n",
        "!git clone https://github.com/pemula-newbie/flask-basic-post-method"
      ],
      "metadata": {
        "colab": {
          "base_uri": "https://localhost:8080/"
        },
        "id": "cWfXavqOsks6",
        "outputId": "662c0d1e-b074-4a1a-d965-ddc3bf35423f"
      },
      "execution_count": null,
      "outputs": [
        {
          "output_type": "stream",
          "name": "stdout",
          "text": [
            "Cloning into 'flask-basic-post-method'...\n",
            "remote: Enumerating objects: 28, done.\u001b[K\n",
            "remote: Counting objects: 100% (28/28), done.\u001b[K\n",
            "remote: Compressing objects: 100% (27/27), done.\u001b[K\n",
            "remote: Total 28 (delta 5), reused 0 (delta 0), pack-reused 0\u001b[K\n",
            "Unpacking objects: 100% (28/28), 153.45 KiB | 1.15 MiB/s, done.\n"
          ]
        }
      ]
    },
    {
      "cell_type": "code",
      "source": [
        "cd /content/flask-basic-post-method/"
      ],
      "metadata": {
        "colab": {
          "base_uri": "https://localhost:8080/"
        },
        "id": "k4UxSne_-Dd8",
        "outputId": "7a64fadc-a5e1-4cb1-db53-ec4bc077b640"
      },
      "execution_count": null,
      "outputs": [
        {
          "output_type": "stream",
          "name": "stdout",
          "text": [
            "/content/flask-basic-post-method\n"
          ]
        }
      ]
    },
    {
      "cell_type": "code",
      "source": [
        "# Jalankan Aplikasi (Kode Python \"app.py\")\n",
        "!python3 app.py"
      ],
      "metadata": {
        "colab": {
          "base_uri": "https://localhost:8080/"
        },
        "id": "tjsHsYXjs0x2",
        "outputId": "9a1b82fb-99f6-4a48-ad76-94aad9fca4ad"
      },
      "execution_count": null,
      "outputs": [
        {
          "output_type": "stream",
          "name": "stdout",
          "text": [
            " * Serving Flask app 'app'\n",
            " * Debug mode: off\n",
            "\u001b[31m\u001b[1mWARNING: This is a development server. Do not use it in a production deployment. Use a production WSGI server instead.\u001b[0m\n",
            " * Running on http://127.0.0.1:5000\n",
            "\u001b[33mPress CTRL+C to quit\u001b[0m\n",
            " * Running on http://8d88-34-125-214-100.ngrok-free.app\n",
            " * Traffic stats available on http://127.0.0.1:4040\n",
            "127.0.0.1 - - [23/Apr/2023 11:15:47] \"GET / HTTP/1.1\" 200 -\n",
            "127.0.0.1 - - [23/Apr/2023 11:15:47] \"\u001b[32mGET /static//js/jquery_3.6.0.min.js HTTP/1.1\u001b[0m\" 308 -\n",
            "127.0.0.1 - - [23/Apr/2023 11:15:47] \"\u001b[32mGET /static//css/bootstrap.min.css HTTP/1.1\u001b[0m\" 308 -\n",
            "127.0.0.1 - - [23/Apr/2023 11:15:47] \"\u001b[32mGET /static//css/font-lato.css HTTP/1.1\u001b[0m\" 308 -\n",
            "127.0.0.1 - - [23/Apr/2023 11:15:48] \"GET /static/js/jquery_3.6.0.min.js HTTP/1.1\" 200 -\n",
            "127.0.0.1 - - [23/Apr/2023 11:15:48] \"GET /static/css/font-lato.css HTTP/1.1\" 200 -\n",
            "127.0.0.1 - - [23/Apr/2023 11:15:48] \"GET /static/css/bootstrap.min.css HTTP/1.1\" 200 -\n",
            "127.0.0.1 - - [23/Apr/2023 11:15:49] \"\u001b[32mGET /static//js/bootstrap_3.4.1.min.js HTTP/1.1\u001b[0m\" 308 -\n",
            "127.0.0.1 - - [23/Apr/2023 11:15:50] \"GET /static/js/bootstrap_3.4.1.min.js HTTP/1.1\" 200 -\n",
            "127.0.0.1 - - [23/Apr/2023 11:15:51] \"\u001b[32mGET /static//images/orbit_logo.jpg HTTP/1.1\u001b[0m\" 308 -\n",
            "127.0.0.1 - - [23/Apr/2023 11:15:51] \"GET /static/fonts/glyphicons-halflings-regular.woff2 HTTP/1.1\" 200 -\n",
            "127.0.0.1 - - [23/Apr/2023 11:15:51] \"GET /static/images/orbit_logo.jpg HTTP/1.1\" 200 -\n",
            "127.0.0.1 - - [23/Apr/2023 11:15:52] \"\u001b[33mGET /favicon.ico HTTP/1.1\u001b[0m\" 404 -\n",
            "127.0.0.1 - - [23/Apr/2023 11:15:59] \"POST /halo HTTP/1.1\" 200 -\n",
            "127.0.0.1 - - [23/Apr/2023 11:16:00] \"\u001b[36mGET /static/css/bootstrap.min.css HTTP/1.1\u001b[0m\" 304 -\n",
            "127.0.0.1 - - [23/Apr/2023 11:16:00] \"\u001b[36mGET /static/css/font-lato.css HTTP/1.1\u001b[0m\" 304 -\n",
            "127.0.0.1 - - [23/Apr/2023 11:16:00] \"\u001b[36mGET /static/js/jquery_3.6.0.min.js HTTP/1.1\u001b[0m\" 304 -\n",
            "127.0.0.1 - - [23/Apr/2023 11:16:01] \"\u001b[36mGET /static/js/bootstrap_3.4.1.min.js HTTP/1.1\u001b[0m\" 304 -\n",
            "127.0.0.1 - - [23/Apr/2023 11:16:01] \"\u001b[36mGET /static/fonts/glyphicons-halflings-regular.woff2 HTTP/1.1\u001b[0m\" 304 -\n",
            "127.0.0.1 - - [23/Apr/2023 11:16:01] \"\u001b[36mGET /static/images/orbit_logo.jpg HTTP/1.1\u001b[0m\" 304 -\n",
            "127.0.0.1 - - [23/Apr/2023 11:16:06] \"GET / HTTP/1.1\" 200 -\n",
            "127.0.0.1 - - [23/Apr/2023 11:16:07] \"\u001b[36mGET /static/css/font-lato.css HTTP/1.1\u001b[0m\" 304 -\n",
            "127.0.0.1 - - [23/Apr/2023 11:16:07] \"\u001b[36mGET /static/js/jquery_3.6.0.min.js HTTP/1.1\u001b[0m\" 304 -\n",
            "127.0.0.1 - - [23/Apr/2023 11:16:07] \"\u001b[36mGET /static/css/bootstrap.min.css HTTP/1.1\u001b[0m\" 304 -\n",
            "127.0.0.1 - - [23/Apr/2023 11:16:07] \"\u001b[36mGET /static/js/bootstrap_3.4.1.min.js HTTP/1.1\u001b[0m\" 304 -\n",
            "127.0.0.1 - - [23/Apr/2023 11:16:08] \"\u001b[36mGET /static/fonts/glyphicons-halflings-regular.woff2 HTTP/1.1\u001b[0m\" 304 -\n",
            "127.0.0.1 - - [23/Apr/2023 11:16:08] \"\u001b[36mGET /static/images/orbit_logo.jpg HTTP/1.1\u001b[0m\" 304 -\n",
            "^C\n"
          ]
        }
      ]
    }
  ]
}