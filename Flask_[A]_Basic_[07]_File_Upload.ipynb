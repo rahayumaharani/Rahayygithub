{
  "nbformat": 4,
  "nbformat_minor": 0,
  "metadata": {
    "colab": {
      "provenance": [],
      "include_colab_link": true
    },
    "kernelspec": {
      "name": "python3",
      "display_name": "Python 3"
    },
    "language_info": {
      "name": "python"
    }
  },
  "cells": [
    {
      "cell_type": "markdown",
      "metadata": {
        "id": "view-in-github",
        "colab_type": "text"
      },
      "source": [
        "<a href=\"https://colab.research.google.com/github/rahayumaharani/Rahayygithub/blob/main/Flask_%5BA%5D_Basic_%5B07%5D_File_Upload.ipynb\" target=\"_parent\"><img src=\"https://colab.research.google.com/assets/colab-badge.svg\" alt=\"Open In Colab\"/></a>"
      ]
    },
    {
      "cell_type": "markdown",
      "source": [
        "**AIM4 - Flask - [A] Basic - [07] File Upload**\n",
        "\n",
        "Orbit Future Academy - AI Mastery - KM Batch 4 <br>\n",
        "Tim Deployment <br>\n",
        "2023 <br>\n",
        "\n",
        "<img src=\"http://orbitfutureacademy.id/wp-content/uploads/2020/02/dark_logo.png\" alt=\"Logo Orbit\" width=\"100\" height=\"30\">\n"
      ],
      "metadata": {
        "id": "iord4tfWrKCw"
      }
    },
    {
      "cell_type": "code",
      "execution_count": null,
      "metadata": {
        "colab": {
          "base_uri": "https://localhost:8080/"
        },
        "id": "oKOPuoSNqpQ6",
        "outputId": "4f5feca2-2d49-4c17-9055-61d85b4ddd7b"
      },
      "outputs": [
        {
          "output_type": "stream",
          "name": "stdout",
          "text": [
            "Completed!\n"
          ]
        }
      ],
      "source": [
        "# Melakukan Instalasi Packages yang Dibutuhkan\n",
        "!pip install flask --quiet\n",
        "!pip install flask-ngrok --quiet\n",
        "!pip install Werkzeug --quiet\n",
        "print(\"Completed!\")"
      ]
    },
    {
      "cell_type": "code",
      "source": [
        "# Download \"ngrox\" \n",
        "!wget https://bin.equinox.io/c/4VmDzA7iaHb/ngrok-stable-linux-amd64.tgz\n",
        "!tar -xvf /content/ngrok-stable-linux-amd64.tgz "
      ],
      "metadata": {
        "colab": {
          "base_uri": "https://localhost:8080/"
        },
        "id": "Tgh7OgSOsPia",
        "outputId": "1061a0c9-b7ab-4abc-b27c-ba8232713b0b"
      },
      "execution_count": null,
      "outputs": [
        {
          "output_type": "stream",
          "name": "stdout",
          "text": [
            "--2023-04-25 05:51:04--  https://bin.equinox.io/c/4VmDzA7iaHb/ngrok-stable-linux-amd64.tgz\n",
            "Resolving bin.equinox.io (bin.equinox.io)... 18.205.222.128, 52.202.168.65, 54.237.133.81, ...\n",
            "Connecting to bin.equinox.io (bin.equinox.io)|18.205.222.128|:443... connected.\n",
            "HTTP request sent, awaiting response... 200 OK\n",
            "Length: 13856790 (13M) [application/octet-stream]\n",
            "Saving to: ‘ngrok-stable-linux-amd64.tgz’\n",
            "\n",
            "ngrok-stable-linux- 100%[===================>]  13.21M  51.4MB/s    in 0.3s    \n",
            "\n",
            "2023-04-25 05:51:05 (51.4 MB/s) - ‘ngrok-stable-linux-amd64.tgz’ saved [13856790/13856790]\n",
            "\n",
            "ngrok\n"
          ]
        }
      ]
    },
    {
      "cell_type": "code",
      "source": [
        "# Setting Token\n",
        "!./ngrok authtoken <Auth Token> # diganti dengan token Anda !"
      ],
      "metadata": {
        "colab": {
          "base_uri": "https://localhost:8080/"
        },
        "id": "dB467gFqseLS",
        "outputId": "1348880a-cae6-40ca-b258-216797aff928"
      },
      "execution_count": null,
      "outputs": [
        {
          "output_type": "stream",
          "name": "stdout",
          "text": [
            "Authtoken saved to configuration file: /root/.ngrok2/ngrok.yml\n"
          ]
        }
      ]
    },
    {
      "cell_type": "code",
      "source": [
        "# Clone Repository dari Github\n",
        "!git clone https://github.com/pemula-newbie/flask-basic-file-upload"
      ],
      "metadata": {
        "colab": {
          "base_uri": "https://localhost:8080/"
        },
        "id": "cWfXavqOsks6",
        "outputId": "09b15681-2ea4-46b6-dd76-d02d91606da8"
      },
      "execution_count": null,
      "outputs": [
        {
          "output_type": "stream",
          "name": "stdout",
          "text": [
            "Cloning into 'flask-basic-file-upload'...\n",
            "remote: Enumerating objects: 5, done.\u001b[K\n",
            "remote: Counting objects: 100% (5/5), done.\u001b[K\n",
            "remote: Compressing objects: 100% (5/5), done.\u001b[K\n",
            "remote: Total 5 (delta 0), reused 0 (delta 0), pack-reused 0\u001b[K\n",
            "Unpacking objects: 100% (5/5), 1.79 KiB | 1.79 MiB/s, done.\n"
          ]
        }
      ]
    },
    {
      "cell_type": "code",
      "source": [
        "cd /content/flask-basic-file-upload/"
      ],
      "metadata": {
        "colab": {
          "base_uri": "https://localhost:8080/"
        },
        "id": "k4UxSne_-Dd8",
        "outputId": "03cdecf9-b616-4890-9585-5f22cf89122d"
      },
      "execution_count": null,
      "outputs": [
        {
          "output_type": "stream",
          "name": "stdout",
          "text": [
            "/content/flask-basic-file-upload\n"
          ]
        }
      ]
    },
    {
      "cell_type": "code",
      "source": [
        "mkdir uploads"
      ],
      "metadata": {
        "id": "qMzIaMhR-HEC"
      },
      "execution_count": null,
      "outputs": []
    },
    {
      "cell_type": "code",
      "source": [
        "!ls"
      ],
      "metadata": {
        "colab": {
          "base_uri": "https://localhost:8080/"
        },
        "id": "o84Gp1eu-OCX",
        "outputId": "31ef49e4-faef-4ded-acd6-1f664a3bc8ca"
      },
      "execution_count": null,
      "outputs": [
        {
          "output_type": "stream",
          "name": "stdout",
          "text": [
            "app.py\ttemplates  uploads\n"
          ]
        }
      ]
    },
    {
      "cell_type": "code",
      "source": [
        "# Jalankan Aplikasi (Kode Python \"app.py\")\n",
        "!python3 app.py"
      ],
      "metadata": {
        "colab": {
          "base_uri": "https://localhost:8080/"
        },
        "id": "tjsHsYXjs0x2",
        "outputId": "7b8931e1-ea60-497c-ecfe-dbcc375b2eec"
      },
      "execution_count": null,
      "outputs": [
        {
          "output_type": "stream",
          "name": "stdout",
          "text": [
            " * Serving Flask app 'app'\n",
            " * Debug mode: off\n",
            "\u001b[31m\u001b[1mWARNING: This is a development server. Do not use it in a production deployment. Use a production WSGI server instead.\u001b[0m\n",
            " * Running on http://127.0.0.1:5000\n",
            "\u001b[33mPress CTRL+C to quit\u001b[0m\n",
            " * Running on http://0d9e-34-139-172-213.ngrok-free.app\n",
            " * Traffic stats available on http://127.0.0.1:4040\n",
            "127.0.0.1 - - [25/Apr/2023 05:53:22] \"GET / HTTP/1.1\" 200 -\n",
            "127.0.0.1 - - [25/Apr/2023 05:53:23] \"\u001b[33mGET /favicon.ico HTTP/1.1\u001b[0m\" 404 -\n",
            "127.0.0.1 - - [25/Apr/2023 05:53:33] \"\u001b[32mPOST / HTTP/1.1\u001b[0m\" 302 -\n",
            "127.0.0.1 - - [25/Apr/2023 05:53:33] \"GET / HTTP/1.1\" 200 -\n",
            "127.0.0.1 - - [25/Apr/2023 05:53:34] \"GET /uploads/wikipedia_airplane.jpg HTTP/1.1\" 200 -\n",
            "127.0.0.1 - - [25/Apr/2023 05:53:39] \"\u001b[32mPOST / HTTP/1.1\u001b[0m\" 302 -\n",
            "127.0.0.1 - - [25/Apr/2023 05:53:39] \"GET / HTTP/1.1\" 200 -\n",
            "127.0.0.1 - - [25/Apr/2023 05:53:40] \"\u001b[36mGET /uploads/wikipedia_airplane.jpg HTTP/1.1\u001b[0m\" 304 -\n",
            "127.0.0.1 - - [25/Apr/2023 05:53:40] \"GET /uploads/wikipedia_automobile.jpg HTTP/1.1\" 200 -\n",
            "127.0.0.1 - - [25/Apr/2023 05:53:45] \"\u001b[32mPOST / HTTP/1.1\u001b[0m\" 302 -\n",
            "127.0.0.1 - - [25/Apr/2023 05:53:45] \"GET / HTTP/1.1\" 200 -\n",
            "127.0.0.1 - - [25/Apr/2023 05:53:46] \"\u001b[36mGET /uploads/wikipedia_automobile.jpg HTTP/1.1\u001b[0m\" 304 -\n",
            "127.0.0.1 - - [25/Apr/2023 05:53:46] \"GET /uploads/wikipedia_airplane.jpg HTTP/1.1\" 200 -\n",
            "127.0.0.1 - - [25/Apr/2023 05:53:50] \"\u001b[32mPOST / HTTP/1.1\u001b[0m\" 302 -\n",
            "127.0.0.1 - - [25/Apr/2023 05:53:51] \"GET / HTTP/1.1\" 200 -\n",
            "127.0.0.1 - - [25/Apr/2023 05:53:51] \"\u001b[36mGET /uploads/wikipedia_automobile.jpg HTTP/1.1\u001b[0m\" 304 -\n",
            "127.0.0.1 - - [25/Apr/2023 05:53:51] \"\u001b[36mGET /uploads/wikipedia_airplane.jpg HTTP/1.1\u001b[0m\" 304 -\n",
            "127.0.0.1 - - [25/Apr/2023 05:53:51] \"GET /uploads/wikipedia_cat.jpg HTTP/1.1\" 200 -\n"
          ]
        }
      ]
    }
  ]
}